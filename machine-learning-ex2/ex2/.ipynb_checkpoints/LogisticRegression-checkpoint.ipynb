{
 "cells": [
  {
   "cell_type": "code",
   "execution_count": 86,
   "metadata": {
    "collapsed": true
   },
   "outputs": [],
   "source": [
    "%matplotlib inline\n",
    "import numpy as np\n",
    "import pandas as pd\n",
    "import matplotlib.pyplot as plt\n",
    "from numpy import dot,sum,log\n",
    "from numpy.linalg import inv\n",
    "import scipy.optimize as opt\n"
   ]
  },
  {
   "cell_type": "markdown",
   "metadata": {},
   "source": [
    "# #Build a logistic regression model to predict whether a student gets admitted into a university"
   ]
  },
  {
   "cell_type": "code",
   "execution_count": 90,
   "metadata": {
    "collapsed": true
   },
   "outputs": [],
   "source": [
    "\n",
    "class LogisticRegression:\n",
    "    def __init__(self,name):\n",
    "      self.file = name\n",
    "    \n",
    "    def sigmoid(self,z):\n",
    "        z=1.0/(1+np.exp(-z))\n",
    "        return z\n",
    "       #Debugging this over 1 week!!! \n",
    "       #First 3 lines \n",
    "    def cf(self,theta,X,y):\n",
    "         theta=np.array(theta).reshape(3,1)\n",
    "         X=np.array(X).reshape(100,3)\n",
    "         y=np.array(y).reshape(100,1)\n",
    "         m=len(y)\n",
    "         h=self.sigmoid(np.dot(X,theta))\n",
    "         A=-(y * log(h))\n",
    "         B=-(1-y)* log(1-h)\n",
    "         J=sum(A+B)/m\n",
    "         return J\n",
    "   \n",
    "    #returnd a ValueError: tnc: invalid gradient vector from minimized function.\n",
    "    #   #Debugging this over 1 week!!! \n",
    "      \n",
    "    def gd(self,theta,X,y):\n",
    "         m=len(y)\n",
    "         X1=X.reshape(self.m,self.n+1)   \n",
    "         grad=np.zeros((3,1))     \n",
    "         theta1=np.array(theta).reshape(3,1)   \n",
    "         h1=self.sigmoid(np.dot(X1,theta1)).reshape(m,1)\n",
    "         grad=   (np.dot(X1.T,h1-y))/m \n",
    "         return grad\n",
    "        \n",
    "    def fp(self,X,y,theta):\n",
    "          print(\"\\nX=\",X.shape)\n",
    "          print(\"\\ntheta=\",theta.shape)\n",
    "          print(\"\\ny=\",y.shape)\n",
    "            \n",
    "    def addOnes(self):\n",
    "      n = self.X.shape[0]\n",
    "      ones = np.ones(n).reshape(n,1)\n",
    "      self.X=np.concatenate((ones,self.X),1).reshape(n,3)   \n",
    "     \n",
    "    def load(self):\n",
    "        self.data = pd.read_csv(self.file,header=None,\n",
    "                                names = [\"score1\", \"score2\",\"outcome\"])\n",
    "        #Not creating X properly was a source of errors.Took a long time \n",
    "        #to debug\n",
    "        self.X=np.array([self.data['score1'],self.data['score2']], dtype=np.float64)\n",
    "        self.X=np.transpose(self.X)\n",
    "        (self.m,self.n)=self.X.shape\n",
    "        self.theta=np.zeros((self.n+1,1))\n",
    "        self.y = np.array([self.data['outcome']], dtype=np.float64).reshape(self.m,1) \n",
    "    \n",
    "    def plotData(self):\n",
    "        positive = self.data[self.data['outcome']==1]\n",
    "        negative = self.data[self.data['outcome']==0]\n",
    "        #self.positive\n",
    "        plt.scatter(positive[\"score1\"],positive[\"score2\"], marker='o', color='b')\n",
    "        plt.scatter(negative[\"score1\"],negative[\"score2\"], marker='x', color='r')\n",
    "        plt.xlabel(\"Exam 1 score\")\n",
    "        plt.ylabel(\"Exam 2 score\")\n",
    "        plt.legend(loc='upper left')\n",
    "    def plotDecisionBoundary(self,t1):\n",
    "        self.plotData()\n",
    "        d=self.data\n",
    "        (x1,x2)=d.score1.min(),d.score1.max()\n",
    "        theta=t1\n",
    "        x=np.array([d.score1.min(),d.score1.max()])\n",
    "        y=(-1./t1[2])*(t1[1]* x + t1[0])\n",
    "        plt.plot([x[0], y[0]], [x[1], y[1]])\n",
    "        \n",
    "    def fminc(self):\n",
    "         return opt.fmin_tnc(func=self.cf, x0=self.theta, fprime=self.gd, args=(self.X.reshape(100,3), self.y.reshape(100,1))) \n",
    "       "
   ]
  },
  {
   "cell_type": "markdown",
   "metadata": {},
   "source": [
    "# Visualizing the data"
   ]
  },
  {
   "cell_type": "code",
   "execution_count": 91,
   "metadata": {},
   "outputs": [],
   "source": [
    "lr = LogisticRegression(\"ex2data1.txt\")\n",
    "lr.load()\n",
    "#lr.plotData()"
   ]
  },
  {
   "cell_type": "code",
   "execution_count": 92,
   "metadata": {},
   "outputs": [
    {
     "name": "stdout",
     "output_type": "stream",
     "text": [
      "\n",
      " For a student with an Exam 1 score of 45 and an Exam 2 score of 85\n",
      "\n",
      "Acceptance probability= [[ 0.77629062]]\n"
     ]
    },
    {
     "data": {
      "image/png": "[encoded data removed]",
      "text/plain": [
       "<matplotlib.figure.Figure at 0x10b5089e8>"
      ]
     },
     "metadata": {},
     "output_type": "display_data"
    }
   ],
   "source": [
    "lr.addOnes()\n",
    "result=lr.fminc()\n",
    "result\n",
    "print('\\n For a student with an Exam 1 score of 45 and an Exam 2 score of 85\\n')\n",
    "p=np.array([1,45,85] ).reshape(1,3)\n",
    "t1=result[0].reshape(3,1)\n",
    "predict=lr.sigmoid(np.dot(p,t1))\n",
    "print(\"Acceptance probability=\",predict)\n",
    "lr.plotDecisionBoundary(t1)"
   ]
  },
  {
   "cell_type": "code",
   "execution_count": null,
   "metadata": {
    "collapsed": true
   },
   "outputs": [],
   "source": []
  },
  {
   "cell_type": "code",
   "execution_count": null,
   "metadata": {
    "collapsed": true
   },
   "outputs": [],
   "source": []
  }
 ],
 "metadata": {
  "kernelspec": {
   "display_name": "Python 3",
   "language": "python",
   "name": "python3"
  },
  "language_info": {
   "codemirror_mode": {
    "name": "ipython",
    "version": 3
   },
   "file_extension": ".py",
   "mimetype": "text/x-python",
   "name": "python",
   "nbconvert_exporter": "python",
   "pygments_lexer": "ipython3",
   "version": "3.6.0"
  },
  "toc": {
   "colors": {
    "hover_highlight": "#DAA520",
    "navigate_num": "#000000",
    "navigate_text": "#333333",
    "running_highlight": "#FF0000",
    "selected_highlight": "#FFD700",
    "sidebar_border": "#EEEEEE",
    "wrapper_background": "#FFFFFF"
   },
   "moveMenuLeft": true,
   "nav_menu": {
    "height": "30px",
    "width": "252px"
   },
   "navigate_menu": true,
   "number_sections": true,
   "sideBar": true,
   "threshold": 4,
   "toc_cell": false,
   "toc_section_display": "block",
   "toc_window_display": false,
   "widenNotebook": false
  }
 },
 "nbformat": 4,
 "nbformat_minor": 2
}
