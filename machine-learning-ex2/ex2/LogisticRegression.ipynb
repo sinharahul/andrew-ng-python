{
 "cells": [
  {
   "cell_type": "code",
   "execution_count": 83,
   "metadata": {
    "collapsed": true
   },
   "outputs": [],
   "source": [
    "%matplotlib inline\n",
    "import numpy as np\n",
    "import pandas as pd\n",
    "import matplotlib.pyplot as plt\n",
    "from numpy import dot,sum\n",
    "from numpy.linalg import inv"
   ]
  },
  {
   "cell_type": "markdown",
   "metadata": {},
   "source": [
    "# #Build a logistic regression model to predict whether a student gets admitted into a university"
   ]
  },
  {
   "cell_type": "code",
   "execution_count": 86,
   "metadata": {},
   "outputs": [],
   "source": [
    "class LogisticRegression:\n",
    "    def __init__(self,name):\n",
    "      self.file = name\n",
    "    \n",
    "    def addOnes(X):\n",
    "      n = X.shape[0]\n",
    "      ones = np.ones(n).reshape(n,1)\n",
    "      return np.concatenate((ones,X),1)\n",
    "\n",
    "    def load(self):\n",
    "        self.data = pd.read_csv(self.file,header=None,\n",
    "                                names = [\"score1\", \"score2\",\"outcome\"])\n",
    "        self.X = np.array([self.data['score1'],self.data['score2']], dtype=np.float64).reshape(lr.data['score1'].size,2) \n",
    "        self.y = np.array([self.data['outcome']], dtype=np.float64).reshape(lr.data['score1'].size,1) \n",
    "    \n",
    "    def plotData(self):\n",
    "        positive = self.data[self.data['outcome']==1]\n",
    "        negative = self.data[self.data['outcome']==0]\n",
    "        #self.positive\n",
    "        plt.scatter(positive[\"score1\"],positive[\"score2\"], marker='o', color='b')\n",
    "        plt.scatter(negative[\"score1\"],negative[\"score2\"], marker='x', color='r')"
   ]
  },
  {
   "cell_type": "markdown",
   "metadata": {},
   "source": [
    "# Visualizing the data"
   ]
  },
  {
   "cell_type": "code",
   "execution_count": 88,
   "metadata": {},
   "outputs": [
    {
     "data": {
      "image/png": "[encoded data removed]",
      "text/plain": [
       "<matplotlib.figure.Figure at 0x108e750b8>"
      ]
     },
     "metadata": {},
     "output_type": "display_data"
    }
   ],
   "source": [
    "lr = LogisticRegression(\"ex2data1.txt\")\n",
    "lr.load()\n",
    "lr.plotData()\n"
   ]
  },
  {
   "cell_type": "code",
   "execution_count": null,
   "metadata": {
    "scrolled": true
   },
   "outputs": [],
   "source": []
  },
  {
   "cell_type": "raw",
   "metadata": {},
   "source": []
  },
  {
   "cell_type": "code",
   "execution_count": null,
   "metadata": {
    "collapsed": true
   },
   "outputs": [],
   "source": []
  }
 ],
 "metadata": {
  "kernelspec": {
   "display_name": "Python 3",
   "language": "python",
   "name": "python3"
  },
  "language_info": {
   "codemirror_mode": {
    "name": "ipython",
    "version": 3
   },
   "file_extension": ".py",
   "mimetype": "text/x-python",
   "name": "python",
   "nbconvert_exporter": "python",
   "pygments_lexer": "ipython3",
   "version": "3.6.0"
  },
  "toc": {
   "colors": {
    "hover_highlight": "#DAA520",
    "navigate_num": "#000000",
    "navigate_text": "#333333",
    "running_highlight": "#FF0000",
    "selected_highlight": "#FFD700",
    "sidebar_border": "#EEEEEE",
    "wrapper_background": "#FFFFFF"
   },
   "moveMenuLeft": true,
   "nav_menu": {
    "height": "30px",
    "width": "252px"
   },
   "navigate_menu": true,
   "number_sections": true,
   "sideBar": true,
   "threshold": 4,
   "toc_cell": false,
   "toc_section_display": "block",
   "toc_window_display": false,
   "widenNotebook": false
  }
 },
 "nbformat": 4,
 "nbformat_minor": 2
}
