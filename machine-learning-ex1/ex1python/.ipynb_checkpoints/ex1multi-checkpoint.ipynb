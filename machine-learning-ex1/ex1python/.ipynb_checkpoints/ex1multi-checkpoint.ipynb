{
 "cells": [
  {
   "cell_type": "markdown",
   "metadata": {},
   "source": [
    "# Debugging"
   ]
  },
  {
   "cell_type": "code",
   "execution_count": 9,
   "metadata": {
    "collapsed": true
   },
   "outputs": [],
   "source": [
    "import numpy as np\n",
    "import pandas as pd\n",
    "from numpy import dot,sum"
   ]
  },
  {
   "cell_type": "code",
   "execution_count": 10,
   "metadata": {
    "collapsed": true
   },
   "outputs": [],
   "source": [
    "def featureNormalize(X):\n",
    "      mean_array=X.mean(0)\n",
    "      std_array=X.std(0)\n",
    "      mean_for_area=mean_array[0]\n",
    "      mean_for_rooms=mean_array[1]\n",
    "      std_area=std_array[0]\n",
    "      std_rooms=std_array[1]\n",
    "      X[:,0]=(X[:,0]-mean_for_area)/std_area\n",
    "      X[:,1]=(X[:,1]-mean_for_rooms)/std_rooms\n",
    " \n",
    "      return (X,mean_array,std_array)"
   ]
  },
  {
   "cell_type": "code",
   "execution_count": 14,
   "metadata": {
    "collapsed": true
   },
   "outputs": [],
   "source": [
    "def addOnes(X):\n",
    "      n=X.shape[0]\n",
    "      ones=np.ones(n).reshape(n,1)\n",
    "      return np.concatenate((ones,X),1)\n"
   ]
  },
  {
   "cell_type": "code",
   "execution_count": 86,
   "metadata": {},
   "outputs": [],
   "source": [
    "data=pd.read_csv('ex1data2.txt',header=None,names = [\"Area\", \"No of bedrooms\",\"Price\"])\n",
    "matrix=pd.DataFrame.as_matrix(data)\n",
    "X=np.array([data['Area'],data['No of bedrooms']], dtype=np.float64)\n",
    "X=np.transpose(X)\n",
    "(X,mean_array,std_array)=featureNormalize(X)\n",
    "X=addOnes(X)\n",
    "theta=np.zeros((3,1), dtype=np.float64).reshape(3,1)\n",
    "alpha,num_iters=0.01,400\n",
    "y=np.array(data['Price'])\n",
    "m=len(y)\n",
    "y=y.reshape(m,1)"
   ]
  },
  {
   "cell_type": "code",
   "execution_count": 87,
   "metadata": {
    "scrolled": true
   },
   "outputs": [],
   "source": [
    "X=np.array([data['Area'],data['No of bedrooms']], dtype=np.float64)"
   ]
  },
  {
   "cell_type": "code",
   "execution_count": 88,
   "metadata": {},
   "outputs": [],
   "source": [
    "X=np.transpose(X)"
   ]
  },
  {
   "cell_type": "code",
   "execution_count": 91,
   "metadata": {},
   "outputs": [
    {
     "data": {
      "text/plain": [
       "array([ 2000.68085106,     3.17021277])"
      ]
     },
     "execution_count": 91,
     "metadata": {},
     "output_type": "execute_result"
    }
   ],
   "source": [
    "X.mean(0)"
   ]
  },
  {
   "cell_type": "code",
   "execution_count": 85,
   "metadata": {},
   "outputs": [
    {
     "data": {
      "text/plain": [
       "array([ 2000.68085106,     3.17021277])"
      ]
     },
     "execution_count": 85,
     "metadata": {},
     "output_type": "execute_result"
    }
   ],
   "source": [
    "mean_array"
   ]
  },
  {
   "cell_type": "code",
   "execution_count": 72,
   "metadata": {},
   "outputs": [
    {
     "data": {
      "text/plain": [
       "array([ 0.        ,  0.51484158,  0.65512671,  0.50378763,  1.06575931,\n",
       "        0.11177399,  0.50661786,  0.68132893,  0.7263855 ,  0.74705986,\n",
       "        0.69782273,  0.53351267,  0.53289201,  0.55896336,  0.8939437 ,\n",
       "        0.79818061,  0.31876634,  1.07910695,  0.81321498,  0.13724471,\n",
       "        0.12920427,  0.59546094,  1.04473394,  0.65358195,  0.52036297,\n",
       "        1.07417191,  0.87891678,  0.71303078,  0.517808  ,  0.50448715,\n",
       "        0.53870301,  1.04337142,  1.59278428,  0.47375986,  0.70673453,\n",
       "        0.6106537 ,  0.72205223,  0.81179807,  0.4188395 ,  0.83324937,\n",
       "        0.40094508,  1.04525402,  0.50215545,  0.16141742,  0.83033326,\n",
       "        1.18276488,  0.5861301 ,  0.82889877])"
      ]
     },
     "execution_count": 72,
     "metadata": {},
     "output_type": "execute_result"
    }
   ],
   "source": [
    "np.std(X1,0)"
   ]
  },
  {
   "cell_type": "code",
   "execution_count": null,
   "metadata": {
    "collapsed": true
   },
   "outputs": [],
   "source": []
  },
  {
   "cell_type": "code",
   "execution_count": 27,
   "metadata": {},
   "outputs": [
    {
     "data": {
      "text/plain": [
       "array([[ 0.],\n",
       "       [ 0.],\n",
       "       [ 0.],\n",
       "       [ 0.],\n",
       "       [ 0.],\n",
       "       [ 0.],\n",
       "       [ 0.],\n",
       "       [ 0.],\n",
       "       [ 0.],\n",
       "       [ 0.],\n",
       "       [ 0.],\n",
       "       [ 0.],\n",
       "       [ 0.],\n",
       "       [ 0.],\n",
       "       [ 0.],\n",
       "       [ 0.],\n",
       "       [ 0.],\n",
       "       [ 0.],\n",
       "       [ 0.],\n",
       "       [ 0.],\n",
       "       [ 0.],\n",
       "       [ 0.],\n",
       "       [ 0.],\n",
       "       [ 0.],\n",
       "       [ 0.],\n",
       "       [ 0.],\n",
       "       [ 0.],\n",
       "       [ 0.],\n",
       "       [ 0.],\n",
       "       [ 0.],\n",
       "       [ 0.],\n",
       "       [ 0.],\n",
       "       [ 0.],\n",
       "       [ 0.],\n",
       "       [ 0.],\n",
       "       [ 0.],\n",
       "       [ 0.],\n",
       "       [ 0.],\n",
       "       [ 0.],\n",
       "       [ 0.],\n",
       "       [ 0.],\n",
       "       [ 0.],\n",
       "       [ 0.],\n",
       "       [ 0.],\n",
       "       [ 0.],\n",
       "       [ 0.],\n",
       "       [ 0.]])"
      ]
     },
     "execution_count": 27,
     "metadata": {},
     "output_type": "execute_result"
    }
   ],
   "source": [
    "h"
   ]
  },
  {
   "cell_type": "code",
   "execution_count": 20,
   "metadata": {},
   "outputs": [
    {
     "data": {
      "text/plain": [
       "-15999395.0"
      ]
     },
     "execution_count": 20,
     "metadata": {},
     "output_type": "execute_result"
    }
   ],
   "source": [
    "np.sum(h-y)"
   ]
  },
  {
   "cell_type": "code",
   "execution_count": 28,
   "metadata": {
    "collapsed": true
   },
   "outputs": [],
   "source": [
    "x=(h-y)"
   ]
  },
  {
   "cell_type": "code",
   "execution_count": 29,
   "metadata": {},
   "outputs": [],
   "source": [
    "theta[0] -= (alpha /m) * np.sum(x)"
   ]
  },
  {
   "cell_type": "code",
   "execution_count": 30,
   "metadata": {},
   "outputs": [
    {
     "data": {
      "text/plain": [
       "array([ 3404.12659574])"
      ]
     },
     "execution_count": 30,
     "metadata": {},
     "output_type": "execute_result"
    }
   ],
   "source": [
    "theta[0]"
   ]
  },
  {
   "cell_type": "code",
   "execution_count": 31,
   "metadata": {
    "collapsed": true
   },
   "outputs": [],
   "source": [
    "theta[1] -= (alpha /m) * (np.sum(x * X[:,1]))"
   ]
  },
  {
   "cell_type": "code",
   "execution_count": 37,
   "metadata": {},
   "outputs": [
    {
     "data": {
      "text/plain": [
       "numpy.ndarray"
      ]
     },
     "execution_count": 37,
     "metadata": {},
     "output_type": "execute_result"
    }
   ],
   "source": [
    "(h-y)"
   ]
  },
  {
   "cell_type": "code",
   "execution_count": 35,
   "metadata": {},
   "outputs": [
    {
     "data": {
      "text/plain": [
       "array([[-399900.],\n",
       "       [-329900.],\n",
       "       [-369000.],\n",
       "       [-232000.],\n",
       "       [-539900.],\n",
       "       [-299900.],\n",
       "       [-314900.],\n",
       "       [-198999.],\n",
       "       [-212000.],\n",
       "       [-242500.],\n",
       "       [-239999.],\n",
       "       [-347000.],\n",
       "       [-329999.],\n",
       "       [-699900.],\n",
       "       [-259900.],\n",
       "       [-449900.],\n",
       "       [-299900.],\n",
       "       [-199900.],\n",
       "       [-499998.],\n",
       "       [-599000.],\n",
       "       [-252900.],\n",
       "       [-255000.],\n",
       "       [-242900.],\n",
       "       [-259900.],\n",
       "       [-573900.],\n",
       "       [-249900.],\n",
       "       [-464500.],\n",
       "       [-469000.],\n",
       "       [-475000.],\n",
       "       [-299900.],\n",
       "       [-349900.],\n",
       "       [-169900.],\n",
       "       [-314900.],\n",
       "       [-579900.],\n",
       "       [-285900.],\n",
       "       [-249900.],\n",
       "       [-229900.],\n",
       "       [-345000.],\n",
       "       [-549000.],\n",
       "       [-287000.],\n",
       "       [-368500.],\n",
       "       [-329900.],\n",
       "       [-314000.],\n",
       "       [-299000.],\n",
       "       [-179900.],\n",
       "       [-299900.],\n",
       "       [-239500.]])"
      ]
     },
     "execution_count": 35,
     "metadata": {},
     "output_type": "execute_result"
    }
   ],
   "source": [
    "a"
   ]
  },
  {
   "cell_type": "code",
   "execution_count": null,
   "metadata": {
    "collapsed": true
   },
   "outputs": [],
   "source": []
  },
  {
   "cell_type": "code",
   "execution_count": 32,
   "metadata": {},
   "outputs": [
    {
     "data": {
      "text/plain": [
       "array([  1.51092226e-12])"
      ]
     },
     "execution_count": 32,
     "metadata": {},
     "output_type": "execute_result"
    }
   ],
   "source": [
    "theta[1]"
   ]
  },
  {
   "cell_type": "code",
   "execution_count": 33,
   "metadata": {},
   "outputs": [
    {
     "data": {
      "text/plain": [
       "array([  1.31415422e-01,  -5.09640698e-01,   5.07908699e-01,\n",
       "        -7.43677059e-01,   1.27107075e+00,  -1.99450507e-02,\n",
       "        -5.93588523e-01,  -7.29685755e-01,  -7.89466782e-01,\n",
       "        -6.44465993e-01,  -7.71822042e-02,  -8.65999486e-04,\n",
       "        -1.40779041e-01,   3.15099326e+00,  -9.31923697e-01,\n",
       "         3.80715024e-01,  -8.65782986e-01,  -9.72625673e-01,\n",
       "         7.73743478e-01,   1.31050078e+00,  -2.97227261e-01,\n",
       "        -1.43322915e-01,  -5.04552951e-01,  -4.91995958e-02,\n",
       "         2.40309445e+00,  -1.14560907e+00,  -6.90255715e-01,\n",
       "         6.68172729e-01,   2.53521350e-01,   8.09357707e-01,\n",
       "        -2.05647815e-01,  -1.27280274e+00,   5.00114703e-02,\n",
       "         1.44532608e+00,  -2.41262044e-01,  -7.16966387e-01,\n",
       "        -9.68809863e-01,   1.67029651e-01,   2.81647389e+00,\n",
       "         2.05187753e-01,  -4.28236746e-01,   3.01854946e-01,\n",
       "         7.20322135e-01,  -1.01841540e+00,  -1.46104938e+00,\n",
       "        -1.89112638e-01,  -1.01459959e+00])"
      ]
     },
     "execution_count": 33,
     "metadata": {},
     "output_type": "execute_result"
    }
   ],
   "source": [
    "X[:,1]"
   ]
  },
  {
   "cell_type": "code",
   "execution_count": null,
   "metadata": {
    "collapsed": true
   },
   "outputs": [],
   "source": []
  },
  {
   "cell_type": "code",
   "execution_count": 26,
   "metadata": {
    "collapsed": true,
    "scrolled": true
   },
   "outputs": [],
   "source": [
    "t1=(dot(X,theta)-y).transpose()"
   ]
  },
  {
   "cell_type": "code",
   "execution_count": 28,
   "metadata": {
    "collapsed": true
   },
   "outputs": [],
   "source": [
    "t2=dot(X,theta)-y"
   ]
  },
  {
   "cell_type": "code",
   "execution_count": 33,
   "metadata": {},
   "outputs": [
    {
     "data": {
      "text/plain": [
       "array([[  6.55915481e+10]])"
      ]
     },
     "execution_count": 33,
     "metadata": {},
     "output_type": "execute_result"
    }
   ],
   "source": [
    "dot(t1,t2)/(2*m)"
   ]
  },
  {
   "cell_type": "code",
   "execution_count": null,
   "metadata": {
    "collapsed": true
   },
   "outputs": [],
   "source": []
  }
 ],
 "metadata": {
  "kernelspec": {
   "display_name": "Python 3",
   "language": "python",
   "name": "python3"
  },
  "language_info": {
   "codemirror_mode": {
    "name": "ipython",
    "version": 3
   },
   "file_extension": ".py",
   "mimetype": "text/x-python",
   "name": "python",
   "nbconvert_exporter": "python",
   "pygments_lexer": "ipython3",
   "version": "3.6.0"
  },
  "toc": {
   "colors": {
    "hover_highlight": "#DAA520",
    "navigate_num": "#000000",
    "navigate_text": "#333333",
    "running_highlight": "#FF0000",
    "selected_highlight": "#FFD700",
    "sidebar_border": "#EEEEEE",
    "wrapper_background": "#FFFFFF"
   },
   "moveMenuLeft": true,
   "nav_menu": {
    "height": "12px",
    "width": "252px"
   },
   "navigate_menu": true,
   "number_sections": true,
   "sideBar": true,
   "threshold": 4,
   "toc_cell": false,
   "toc_section_display": "block",
   "toc_window_display": false,
   "widenNotebook": false
  }
 },
 "nbformat": 4,
 "nbformat_minor": 2
}
