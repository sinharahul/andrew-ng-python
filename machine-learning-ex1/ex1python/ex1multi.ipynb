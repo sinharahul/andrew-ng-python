{
 "cells": [
  {
   "cell_type": "markdown",
   "metadata": {},
   "source": [
    "# Debugging"
   ]
  },
  {
   "cell_type": "code",
   "execution_count": 1,
   "metadata": {
    "collapsed": true
   },
   "outputs": [],
   "source": [
    "import numpy as np\n",
    "import pandas as pd\n",
    "from numpy import dot,sum"
   ]
  },
  {
   "cell_type": "code",
   "execution_count": 2,
   "metadata": {
    "collapsed": true
   },
   "outputs": [],
   "source": [
    "def featureNormalize(X):\n",
    "      mean_array=X.mean(0)\n",
    "      std_array=X.std(0, ddof=1)\n",
    "      mean_for_area=mean_array[0]\n",
    "      mean_for_rooms=mean_array[1]\n",
    "      std_area=std_array[0]\n",
    "      std_rooms=std_array[1]\n",
    "      X[:,0]=(X[:,0]-mean_for_area)/std_area\n",
    "      X[:,1]=(X[:,1]-mean_for_rooms)/std_rooms\n",
    " \n",
    "      return (X,mean_array,std_array)"
   ]
  },
  {
   "cell_type": "code",
   "execution_count": 3,
   "metadata": {
    "collapsed": true
   },
   "outputs": [],
   "source": [
    "def addOnes(X):\n",
    "      n=X.shape[0]\n",
    "      ones=np.ones(n).reshape(n,1)\n",
    "      return np.concatenate((ones,X),1)\n"
   ]
  },
  {
   "cell_type": "code",
   "execution_count": 6,
   "metadata": {
    "collapsed": true
   },
   "outputs": [],
   "source": [
    "data=pd.read_csv('ex1data2.txt',header=None,names = [\"Area\", \"No of bedrooms\",\"Price\"])\n",
    "matrix=pd.DataFrame.as_matrix(data)\n",
    "X=np.array([data['Area'],data['No of bedrooms']], dtype=np.float64)\n",
    "X=np.transpose(X)\n",
    "(X,mean_array,std_array)=featureNormalize(X)\n",
    "X=addOnes(X)\n",
    "theta=np.zeros((3,1), dtype=np.float64)\n",
    "alpha,num_iters=0.01,400\n",
    "y=np.array(data['Price'])\n",
    "m=len(y)\n",
    "y=y.reshape(m,1)\n",
    "h=dot(X,theta)\n",
    "x=h-y"
   ]
  },
  {
   "cell_type": "code",
   "execution_count": 7,
   "metadata": {},
   "outputs": [],
   "source": [
    "t1=X[:,0].reshape(m,1)\n",
    "t2=X[:,1].reshape(m,1)\n",
    "t3=X[:,2].reshape(m,1)\n",
    "theta[0] -= (alpha /m) * np.sum(x)\n",
    "theta[1] -= (alpha /m) * np.sum(x*t2)\n",
    "theta[2] -= (alpha /m) * np.sum(x*t3)"
   ]
  },
  {
   "cell_type": "code",
   "execution_count": 8,
   "metadata": {},
   "outputs": [
    {
     "data": {
      "text/plain": [
       "array([[ 3404.12659574],\n",
       "       [ 1046.32933766],\n",
       "       [  541.23683844]])"
      ]
     },
     "execution_count": 8,
     "metadata": {},
     "output_type": "execute_result"
    }
   ],
   "source": [
    "theta"
   ]
  },
  {
   "cell_type": "code",
   "execution_count": null,
   "metadata": {
    "collapsed": true
   },
   "outputs": [],
   "source": []
  },
  {
   "cell_type": "code",
   "execution_count": null,
   "metadata": {
    "collapsed": true
   },
   "outputs": [],
   "source": []
  },
  {
   "cell_type": "code",
   "execution_count": 10,
   "metadata": {
    "collapsed": true
   },
   "outputs": [],
   "source": [
    "t1=X[:,0].reshape(m,1)\n",
    "t2=X[:,1].reshape(m,1)\n",
    "t3=X[:,2].reshape(m,1)\n",
    "h=dot(X,theta)\n",
    "x=h-y"
   ]
  },
  {
   "cell_type": "code",
   "execution_count": 11,
   "metadata": {
    "collapsed": true
   },
   "outputs": [],
   "source": [
    " theta[1] -= (alpha /m) * np.sum(x*t2)"
   ]
  },
  {
   "cell_type": "code",
   "execution_count": 12,
   "metadata": {},
   "outputs": [
    {
     "data": {
      "text/plain": [
       "array([ 1046.32933766])"
      ]
     },
     "execution_count": 12,
     "metadata": {},
     "output_type": "execute_result"
    }
   ],
   "source": [
    "theta[1]"
   ]
  },
  {
   "cell_type": "code",
   "execution_count": 41,
   "metadata": {},
   "outputs": [
    {
     "data": {
      "text/plain": [
       "-1046.3293376618246"
      ]
     },
     "execution_count": 41,
     "metadata": {},
     "output_type": "execute_result"
    }
   ],
   "source": [
    "(alpha /m) * np.sum(x*t2)"
   ]
  },
  {
   "cell_type": "code",
   "execution_count": 13,
   "metadata": {},
   "outputs": [
    {
     "data": {
      "text/plain": [
       "-541.23683844075845"
      ]
     },
     "execution_count": 13,
     "metadata": {},
     "output_type": "execute_result"
    }
   ],
   "source": [
    "(alpha /m) * np.sum(x*t3)"
   ]
  },
  {
   "cell_type": "code",
   "execution_count": 37,
   "metadata": {},
   "outputs": [
    {
     "data": {
      "text/plain": [
       "-4917747.8870105762"
      ]
     },
     "execution_count": 37,
     "metadata": {},
     "output_type": "execute_result"
    }
   ],
   "source": [
    "np.sum(x*t2)"
   ]
  },
  {
   "cell_type": "code",
   "execution_count": 14,
   "metadata": {
    "collapsed": true
   },
   "outputs": [],
   "source": [
    "x = h-y"
   ]
  },
  {
   "cell_type": "code",
   "execution_count": 24,
   "metadata": {},
   "outputs": [
    {
     "data": {
      "text/plain": [
       "array([-51990.94664291])"
      ]
     },
     "execution_count": 24,
     "metadata": {},
     "output_type": "execute_result"
    }
   ],
   "source": [
    "x[0] * X[0,1]"
   ]
  },
  {
   "cell_type": "code",
   "execution_count": 25,
   "metadata": {},
   "outputs": [
    {
     "data": {
      "text/plain": [
       "array([ 166332.22762983])"
      ]
     },
     "execution_count": 25,
     "metadata": {},
     "output_type": "execute_result"
    }
   ],
   "source": [
    "x[1] * X[1,1]"
   ]
  },
  {
   "cell_type": "code",
   "execution_count": 15,
   "metadata": {},
   "outputs": [
    {
     "data": {
      "text/plain": [
       "-15999395.0"
      ]
     },
     "execution_count": 15,
     "metadata": {},
     "output_type": "execute_result"
    }
   ],
   "source": [
    "np.sum(h-y)"
   ]
  },
  {
   "cell_type": "code",
   "execution_count": 29,
   "metadata": {},
   "outputs": [
    {
     "data": {
      "text/plain": [
       "(47,)"
      ]
     },
     "execution_count": 29,
     "metadata": {},
     "output_type": "execute_result"
    }
   ],
   "source": [
    "(X[:,1]).shape"
   ]
  },
  {
   "cell_type": "code",
   "execution_count": 16,
   "metadata": {
    "collapsed": true
   },
   "outputs": [],
   "source": [
    "x=(h-y)"
   ]
  },
  {
   "cell_type": "code",
   "execution_count": 17,
   "metadata": {
    "collapsed": true
   },
   "outputs": [],
   "source": [
    "theta[0] -= (alpha /m) * np.sum(x)"
   ]
  },
  {
   "cell_type": "code",
   "execution_count": 18,
   "metadata": {},
   "outputs": [
    {
     "data": {
      "text/plain": [
       "array([ 3404.12659574])"
      ]
     },
     "execution_count": 18,
     "metadata": {},
     "output_type": "execute_result"
    }
   ],
   "source": [
    "theta[0]"
   ]
  },
  {
   "cell_type": "code",
   "execution_count": 19,
   "metadata": {
    "collapsed": true
   },
   "outputs": [],
   "source": [
    "theta[1] -= (alpha /m) * (np.sum(x * X[:,1]))"
   ]
  },
  {
   "cell_type": "code",
   "execution_count": 20,
   "metadata": {},
   "outputs": [
    {
     "data": {
      "text/plain": [
       "array([[  3.40412660e+03],\n",
       "       [  3.76492105e-12],\n",
       "       [  0.00000000e+00]])"
      ]
     },
     "execution_count": 20,
     "metadata": {},
     "output_type": "execute_result"
    }
   ],
   "source": [
    "theta"
   ]
  },
  {
   "cell_type": "code",
   "execution_count": 35,
   "metadata": {},
   "outputs": [
    {
     "data": {
      "text/plain": [
       "array([[-399900.],\n",
       "       [-329900.],\n",
       "       [-369000.],\n",
       "       [-232000.],\n",
       "       [-539900.],\n",
       "       [-299900.],\n",
       "       [-314900.],\n",
       "       [-198999.],\n",
       "       [-212000.],\n",
       "       [-242500.],\n",
       "       [-239999.],\n",
       "       [-347000.],\n",
       "       [-329999.],\n",
       "       [-699900.],\n",
       "       [-259900.],\n",
       "       [-449900.],\n",
       "       [-299900.],\n",
       "       [-199900.],\n",
       "       [-499998.],\n",
       "       [-599000.],\n",
       "       [-252900.],\n",
       "       [-255000.],\n",
       "       [-242900.],\n",
       "       [-259900.],\n",
       "       [-573900.],\n",
       "       [-249900.],\n",
       "       [-464500.],\n",
       "       [-469000.],\n",
       "       [-475000.],\n",
       "       [-299900.],\n",
       "       [-349900.],\n",
       "       [-169900.],\n",
       "       [-314900.],\n",
       "       [-579900.],\n",
       "       [-285900.],\n",
       "       [-249900.],\n",
       "       [-229900.],\n",
       "       [-345000.],\n",
       "       [-549000.],\n",
       "       [-287000.],\n",
       "       [-368500.],\n",
       "       [-329900.],\n",
       "       [-314000.],\n",
       "       [-299000.],\n",
       "       [-179900.],\n",
       "       [-299900.],\n",
       "       [-239500.]])"
      ]
     },
     "execution_count": 35,
     "metadata": {},
     "output_type": "execute_result"
    }
   ],
   "source": [
    "a"
   ]
  },
  {
   "cell_type": "code",
   "execution_count": null,
   "metadata": {
    "collapsed": true
   },
   "outputs": [],
   "source": []
  },
  {
   "cell_type": "code",
   "execution_count": 32,
   "metadata": {},
   "outputs": [
    {
     "data": {
      "text/plain": [
       "array([  1.51092226e-12])"
      ]
     },
     "execution_count": 32,
     "metadata": {},
     "output_type": "execute_result"
    }
   ],
   "source": [
    "theta[1]"
   ]
  },
  {
   "cell_type": "code",
   "execution_count": 33,
   "metadata": {},
   "outputs": [
    {
     "data": {
      "text/plain": [
       "array([  1.31415422e-01,  -5.09640698e-01,   5.07908699e-01,\n",
       "        -7.43677059e-01,   1.27107075e+00,  -1.99450507e-02,\n",
       "        -5.93588523e-01,  -7.29685755e-01,  -7.89466782e-01,\n",
       "        -6.44465993e-01,  -7.71822042e-02,  -8.65999486e-04,\n",
       "        -1.40779041e-01,   3.15099326e+00,  -9.31923697e-01,\n",
       "         3.80715024e-01,  -8.65782986e-01,  -9.72625673e-01,\n",
       "         7.73743478e-01,   1.31050078e+00,  -2.97227261e-01,\n",
       "        -1.43322915e-01,  -5.04552951e-01,  -4.91995958e-02,\n",
       "         2.40309445e+00,  -1.14560907e+00,  -6.90255715e-01,\n",
       "         6.68172729e-01,   2.53521350e-01,   8.09357707e-01,\n",
       "        -2.05647815e-01,  -1.27280274e+00,   5.00114703e-02,\n",
       "         1.44532608e+00,  -2.41262044e-01,  -7.16966387e-01,\n",
       "        -9.68809863e-01,   1.67029651e-01,   2.81647389e+00,\n",
       "         2.05187753e-01,  -4.28236746e-01,   3.01854946e-01,\n",
       "         7.20322135e-01,  -1.01841540e+00,  -1.46104938e+00,\n",
       "        -1.89112638e-01,  -1.01459959e+00])"
      ]
     },
     "execution_count": 33,
     "metadata": {},
     "output_type": "execute_result"
    }
   ],
   "source": [
    "X[:,1]"
   ]
  },
  {
   "cell_type": "code",
   "execution_count": null,
   "metadata": {
    "collapsed": true
   },
   "outputs": [],
   "source": []
  },
  {
   "cell_type": "code",
   "execution_count": 26,
   "metadata": {
    "collapsed": true,
    "scrolled": true
   },
   "outputs": [],
   "source": [
    "t1=(dot(X,theta)-y).transpose()"
   ]
  },
  {
   "cell_type": "code",
   "execution_count": 28,
   "metadata": {
    "collapsed": true
   },
   "outputs": [],
   "source": [
    "t2=dot(X,theta)-y"
   ]
  },
  {
   "cell_type": "code",
   "execution_count": 33,
   "metadata": {},
   "outputs": [
    {
     "data": {
      "text/plain": [
       "array([[  6.55915481e+10]])"
      ]
     },
     "execution_count": 33,
     "metadata": {},
     "output_type": "execute_result"
    }
   ],
   "source": [
    "dot(t1,t2)/(2*m)"
   ]
  },
  {
   "cell_type": "code",
   "execution_count": null,
   "metadata": {
    "collapsed": true
   },
   "outputs": [],
   "source": []
  }
 ],
 "metadata": {
  "kernelspec": {
   "display_name": "Python 3",
   "language": "python",
   "name": "python3"
  },
  "language_info": {
   "codemirror_mode": {
    "name": "ipython",
    "version": 3
   },
   "file_extension": ".py",
   "mimetype": "text/x-python",
   "name": "python",
   "nbconvert_exporter": "python",
   "pygments_lexer": "ipython3",
   "version": "3.6.0"
  },
  "toc": {
   "colors": {
    "hover_highlight": "#DAA520",
    "navigate_num": "#000000",
    "navigate_text": "#333333",
    "running_highlight": "#FF0000",
    "selected_highlight": "#FFD700",
    "sidebar_border": "#EEEEEE",
    "wrapper_background": "#FFFFFF"
   },
   "moveMenuLeft": true,
   "nav_menu": {
    "height": "12px",
    "width": "252px"
   },
   "navigate_menu": true,
   "number_sections": true,
   "sideBar": true,
   "threshold": 4,
   "toc_cell": false,
   "toc_section_display": "block",
   "toc_window_display": false,
   "widenNotebook": false
  }
 },
 "nbformat": 4,
 "nbformat_minor": 2
}
