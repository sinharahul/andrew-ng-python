{
 "cells": [
  {
   "cell_type": "markdown",
   "metadata": {},
   "source": [
    "# Visualization"
   ]
  },
  {
   "cell_type": "code",
   "execution_count": 116,
   "metadata": {
    "collapsed": true
   },
   "outputs": [],
   "source": [
    "%matplotlib inline\n",
    "import numpy as np\n",
    "import pandas as pd\n",
    "import matplotlib.pyplot as plt\n",
    "from numpy import dot,sum"
   ]
  },
  {
   "cell_type": "code",
   "execution_count": 117,
   "metadata": {
    "collapsed": true
   },
   "outputs": [],
   "source": [
    "def featureNormalize(X):\n",
    "      mean_array=X.mean(0)\n",
    "      std_array=X.std(0, ddof=1)\n",
    "      mean_for_area=mean_array[0]\n",
    "      mean_for_rooms=mean_array[1]\n",
    "      std_area=std_array[0]\n",
    "      std_rooms=std_array[1]\n",
    "      X[:,0]=(X[:,0]-mean_for_area)/std_area\n",
    "      X[:,1]=(X[:,1]-mean_for_rooms)/std_rooms\n",
    " \n",
    "      return (X,mean_array,std_array)"
   ]
  },
  {
   "cell_type": "code",
   "execution_count": 118,
   "metadata": {
    "collapsed": true
   },
   "outputs": [],
   "source": [
    "def addOnes(X):\n",
    "      n=X.shape[0]\n",
    "      ones=np.ones(n).reshape(n,1)\n",
    "      return np.concatenate((ones,X),1)\n"
   ]
  },
  {
   "cell_type": "code",
   "execution_count": 121,
   "metadata": {
    "collapsed": true
   },
   "outputs": [],
   "source": [
    "def computeCost(X,y,theta):\n",
    "      m=len(y)\n",
    "      t1=(dot(X,theta)-y).transpose()\n",
    "      t2=dot(X,theta)-y\n",
    "      J=dot(t1,t2)/(2*m)\n",
    "      return J\n",
    "def computeThetaTerm(X,y,alpha,theta):\n",
    "     m=len(y)\n",
    "     #3 * 47 and 47 *1 = 3* 1\n",
    "     theta-= (alpha/m) * dot(X.transpose(),(dot(X,theta)-y));\n",
    "\n",
    "def gradientDescentMulti(X,y,theta,alpha,num_iters):\n",
    "      m=len(y)\n",
    "      J_history=np.zeros((num_iters,1))\n",
    "      for iter in range(num_iters):\n",
    "            #Pass by reference\n",
    "            computeThetaTerm(X,y,alpha,theta)\n",
    "            cost=computeCost(X,y,theta)\n",
    "            J_history[iter]=cost\n",
    "      return (theta,J_history)"
   ]
  },
  {
   "cell_type": "code",
   "execution_count": 129,
   "metadata": {},
   "outputs": [
    {
     "name": "stdout",
     "output_type": "stream",
     "text": [
      "[[ 340412.56301439]\n",
      " [ 110540.56654627]\n",
      " [  -6558.99054811]]\n"
     ]
    }
   ],
   "source": [
    "data=pd.read_csv('ex1data2.txt',header=None,names = [\"area\", \"bedrooms\",\"price\"])\n",
    "matrix=pd.DataFrame.as_matrix(data)\n",
    "X=np.array([data['area'],data['bedrooms']], dtype=np.float64)\n",
    "X=np.transpose(X)\n",
    "(X,mean_array,std_array)=featureNormalize(X)\n",
    "X=addOnes(X)\n",
    "theta=np.zeros((3,1), dtype=np.float64)\n",
    "y=np.array(data['price'])\n",
    "m=len(y)\n",
    "y=y.reshape(m,1)\n",
    "h=dot(X,theta)\n",
    "x=h-y\n",
    "alpha=0.01\n",
    "num_iters=1500\n",
    "gradientDescentMulti(X,y,theta,alpha,num_iters)\n",
    "print(theta)\n",
    "#computeThetaTerm(X,y,alpha,theta)\n",
    "#computeCost(X,y,theta)"
   ]
  },
  {
   "cell_type": "code",
   "execution_count": 134,
   "metadata": {},
   "outputs": [
    {
     "data": {
      "text/plain": [
       "LinearRegression(copy_X=True, fit_intercept=True, n_jobs=1, normalize=False)"
      ]
     },
     "execution_count": 134,
     "metadata": {},
     "output_type": "execute_result"
    }
   ],
   "source": [
    "X=np.array([data['area'],data['bedrooms']], dtype=np.float64)\n",
    "X=np.transpose(X)\n",
    "X=addOnes(X)\n",
    "X=X.reshape(m,3)\n",
    "theta=theta.reshape(3,1)\n",
    "from sklearn import linear_model  \n",
    "model = linear_model.LinearRegression()  \n",
    "model.fit(X, y) "
   ]
  },
  {
   "cell_type": "code",
   "execution_count": 135,
   "metadata": {},
   "outputs": [
    {
     "data": {
      "text/plain": [
       "<matplotlib.text.Text at 0x10f6c7c18>"
      ]
     },
     "execution_count": 135,
     "metadata": {},
     "output_type": "execute_result"
    },
    {
     "data": {
      "image/png": "[encoded data removed]",
      "text/plain": [
       "<matplotlib.figure.Figure at 0x10f689630>"
      ]
     },
     "metadata": {},
     "output_type": "display_data"
    }
   ],
   "source": [
    "x = np.array(X[:, 1])  \n",
    "f = model.predict(X).flatten()\n",
    "X=np.array([data['area'],data['bedrooms']], dtype=np.float64)\n",
    "X=np.transpose(X)\n",
    "X=addOnes(X)\n",
    "f1=X.dot(theta)\n",
    "fig, ax = plt.subplots(figsize=(12,8))  \n",
    "ax.plot(x, f, 'r', label='Prediction')  \n",
    "#ax.plot(x, f1, 'g', label='Prediction gd') \n",
    "ax.scatter(data.area, data.price, label='Training Data')  \n",
    "ax.legend(loc=2)  \n",
    "ax.set_xlabel('Area/No of bedrooms')  \n",
    "ax.set_ylabel('Price of home')  \n",
    "ax.set_title('Predicted Price vs. Area')  "
   ]
  },
  {
   "cell_type": "code",
   "execution_count": null,
   "metadata": {
    "collapsed": true
   },
   "outputs": [],
   "source": []
  },
  {
   "cell_type": "code",
   "execution_count": 71,
   "metadata": {},
   "outputs": [
    {
     "data": {
      "text/html": [
       "<div>\n",
       "<style>\n",
       "    .dataframe thead tr:only-child th {\n",
       "        text-align: right;\n",
       "    }\n",
       "\n",
       "    .dataframe thead th {\n",
       "        text-align: left;\n",
       "    }\n",
       "\n",
       "    .dataframe tbody tr th {\n",
       "        vertical-align: top;\n",
       "    }\n",
       "</style>\n",
       "<table border=\"1\" class=\"dataframe\">\n",
       "  <thead>\n",
       "    <tr style=\"text-align: right;\">\n",
       "      <th></th>\n",
       "      <th>Area</th>\n",
       "      <th>No of bedrooms</th>\n",
       "      <th>Price</th>\n",
       "    </tr>\n",
       "  </thead>\n",
       "  <tbody>\n",
       "    <tr>\n",
       "      <th>count</th>\n",
       "      <td>47.000000</td>\n",
       "      <td>47.000000</td>\n",
       "      <td>47.000000</td>\n",
       "    </tr>\n",
       "    <tr>\n",
       "      <th>mean</th>\n",
       "      <td>2000.680851</td>\n",
       "      <td>3.170213</td>\n",
       "      <td>340412.659574</td>\n",
       "    </tr>\n",
       "    <tr>\n",
       "      <th>std</th>\n",
       "      <td>794.702354</td>\n",
       "      <td>0.760982</td>\n",
       "      <td>125039.899586</td>\n",
       "    </tr>\n",
       "    <tr>\n",
       "      <th>min</th>\n",
       "      <td>852.000000</td>\n",
       "      <td>1.000000</td>\n",
       "      <td>169900.000000</td>\n",
       "    </tr>\n",
       "    <tr>\n",
       "      <th>25%</th>\n",
       "      <td>1432.000000</td>\n",
       "      <td>3.000000</td>\n",
       "      <td>249900.000000</td>\n",
       "    </tr>\n",
       "    <tr>\n",
       "      <th>50%</th>\n",
       "      <td>1888.000000</td>\n",
       "      <td>3.000000</td>\n",
       "      <td>299900.000000</td>\n",
       "    </tr>\n",
       "    <tr>\n",
       "      <th>75%</th>\n",
       "      <td>2269.000000</td>\n",
       "      <td>4.000000</td>\n",
       "      <td>384450.000000</td>\n",
       "    </tr>\n",
       "    <tr>\n",
       "      <th>max</th>\n",
       "      <td>4478.000000</td>\n",
       "      <td>5.000000</td>\n",
       "      <td>699900.000000</td>\n",
       "    </tr>\n",
       "  </tbody>\n",
       "</table>\n",
       "</div>"
      ],
      "text/plain": [
       "              Area  No of bedrooms          Price\n",
       "count    47.000000       47.000000      47.000000\n",
       "mean   2000.680851        3.170213  340412.659574\n",
       "std     794.702354        0.760982  125039.899586\n",
       "min     852.000000        1.000000  169900.000000\n",
       "25%    1432.000000        3.000000  249900.000000\n",
       "50%    1888.000000        3.000000  299900.000000\n",
       "75%    2269.000000        4.000000  384450.000000\n",
       "max    4478.000000        5.000000  699900.000000"
      ]
     },
     "execution_count": 71,
     "metadata": {},
     "output_type": "execute_result"
    }
   ],
   "source": [
    "data.describe()"
   ]
  },
  {
   "cell_type": "code",
   "execution_count": 66,
   "metadata": {
    "collapsed": true
   },
   "outputs": [],
   "source": [
    "(theta1,J_History)=gradientDescentMulti(X,y,theta,alpha,num_iters)"
   ]
  },
  {
   "cell_type": "code",
   "execution_count": 67,
   "metadata": {
    "collapsed": true
   },
   "outputs": [],
   "source": [
    "predict= np.dot(X , theta1)"
   ]
  },
  {
   "cell_type": "markdown",
   "metadata": {},
   "source": [
    "Viewing the Results"
   ]
  },
  {
   "cell_type": "code",
   "execution_count": null,
   "metadata": {
    "collapsed": true
   },
   "outputs": [],
   "source": []
  },
  {
   "cell_type": "code",
   "execution_count": 73,
   "metadata": {},
   "outputs": [
    {
     "data": {
      "text/plain": [
       "<matplotlib.text.Text at 0x1094807b8>"
      ]
     },
     "execution_count": 73,
     "metadata": {},
     "output_type": "execute_result"
    },
    {
     "data": {
      "image/png": "[encoded data removed]",
      "text/plain": [
       "<matplotlib.figure.Figure at 0x109dc77f0>"
      ]
     },
     "metadata": {},
     "output_type": "display_data"
    }
   ],
   "source": [
    "plt.figure(1)\n",
    "plt.subplot(211)\n",
    "plt.plot(X[:,1],y,'ro',X[:,2],y,'bX')\n",
    "plt.xlabel(\"Area/Size of house\")\n",
    "plt.ylabel(\"Cost\")"
   ]
  },
  {
   "cell_type": "markdown",
   "metadata": {},
   "source": [
    "Cost function reduces as iterations proceed"
   ]
  },
  {
   "cell_type": "code",
   "execution_count": 69,
   "metadata": {},
   "outputs": [
    {
     "data": {
      "text/plain": [
       "<matplotlib.text.Text at 0x109dbe9e8>"
      ]
     },
     "execution_count": 69,
     "metadata": {},
     "output_type": "execute_result"
    },
    {
     "data": {
      "image/png": "[encoded data removed]",
      "text/plain": [
       "<matplotlib.figure.Figure at 0x109c49668>"
      ]
     },
     "metadata": {},
     "output_type": "display_data"
    }
   ],
   "source": [
    "plt.subplot(212)\n",
    "plt.plot(np.arange(num_iters)+1, J_History, 'r--')\n",
    "plt.xlabel(\"Iterations\")\n",
    "plt.ylabel(\"Cost function\")\n",
    "#plt.axis([1, m, 0, 60000000000])"
   ]
  },
  {
   "cell_type": "code",
   "execution_count": null,
   "metadata": {
    "collapsed": true
   },
   "outputs": [],
   "source": []
  },
  {
   "cell_type": "code",
   "execution_count": 5,
   "metadata": {
    "collapsed": true
   },
   "outputs": [],
   "source": [
    "t1=X[:,0].reshape(m,1)\n",
    "t2=X[:,1].reshape(m,1)\n",
    "t3=X[:,2].reshape(m,1)\n",
    "theta[0] -= (alpha /m) * np.sum(x)\n",
    "theta[1] -= (alpha /m) * np.sum(x*t2)\n",
    "theta[2] -= (alpha /m) * np.sum(x*t3)"
   ]
  },
  {
   "cell_type": "code",
   "execution_count": 6,
   "metadata": {},
   "outputs": [
    {
     "data": {
      "text/plain": [
       "array([[ 3404.12659574],\n",
       "       [ 1046.32933766],\n",
       "       [  541.23683844]])"
      ]
     },
     "execution_count": 6,
     "metadata": {},
     "output_type": "execute_result"
    }
   ],
   "source": [
    "theta"
   ]
  },
  {
   "cell_type": "code",
   "execution_count": null,
   "metadata": {
    "collapsed": true
   },
   "outputs": [],
   "source": []
  },
  {
   "cell_type": "code",
   "execution_count": null,
   "metadata": {
    "collapsed": true
   },
   "outputs": [],
   "source": []
  },
  {
   "cell_type": "code",
   "execution_count": 10,
   "metadata": {
    "collapsed": true
   },
   "outputs": [],
   "source": [
    "t1=X[:,0].reshape(m,1)\n",
    "t2=X[:,1].reshape(m,1)\n",
    "t3=X[:,2].reshape(m,1)\n",
    "h=dot(X,theta)\n",
    "x=h-y"
   ]
  },
  {
   "cell_type": "code",
   "execution_count": 11,
   "metadata": {
    "collapsed": true
   },
   "outputs": [],
   "source": [
    " theta[1] -= (alpha /m) * np.sum(x*t2)"
   ]
  },
  {
   "cell_type": "code",
   "execution_count": 12,
   "metadata": {},
   "outputs": [
    {
     "data": {
      "text/plain": [
       "array([ 1046.32933766])"
      ]
     },
     "execution_count": 12,
     "metadata": {},
     "output_type": "execute_result"
    }
   ],
   "source": [
    "theta[1]"
   ]
  },
  {
   "cell_type": "code",
   "execution_count": 41,
   "metadata": {},
   "outputs": [
    {
     "data": {
      "text/plain": [
       "-1046.3293376618246"
      ]
     },
     "execution_count": 41,
     "metadata": {},
     "output_type": "execute_result"
    }
   ],
   "source": [
    "(alpha /m) * np.sum(x*t2)"
   ]
  },
  {
   "cell_type": "code",
   "execution_count": 13,
   "metadata": {},
   "outputs": [
    {
     "data": {
      "text/plain": [
       "-541.23683844075845"
      ]
     },
     "execution_count": 13,
     "metadata": {},
     "output_type": "execute_result"
    }
   ],
   "source": [
    "(alpha /m) * np.sum(x*t3)"
   ]
  },
  {
   "cell_type": "code",
   "execution_count": 37,
   "metadata": {},
   "outputs": [
    {
     "data": {
      "text/plain": [
       "-4917747.8870105762"
      ]
     },
     "execution_count": 37,
     "metadata": {},
     "output_type": "execute_result"
    }
   ],
   "source": [
    "np.sum(x*t2)"
   ]
  },
  {
   "cell_type": "code",
   "execution_count": 14,
   "metadata": {
    "collapsed": true
   },
   "outputs": [],
   "source": [
    "x = h-y"
   ]
  },
  {
   "cell_type": "code",
   "execution_count": 24,
   "metadata": {},
   "outputs": [
    {
     "data": {
      "text/plain": [
       "array([-51990.94664291])"
      ]
     },
     "execution_count": 24,
     "metadata": {},
     "output_type": "execute_result"
    }
   ],
   "source": [
    "x[0] * X[0,1]"
   ]
  },
  {
   "cell_type": "code",
   "execution_count": 25,
   "metadata": {},
   "outputs": [
    {
     "data": {
      "text/plain": [
       "array([ 166332.22762983])"
      ]
     },
     "execution_count": 25,
     "metadata": {},
     "output_type": "execute_result"
    }
   ],
   "source": [
    "x[1] * X[1,1]"
   ]
  },
  {
   "cell_type": "code",
   "execution_count": 15,
   "metadata": {},
   "outputs": [
    {
     "data": {
      "text/plain": [
       "-15999395.0"
      ]
     },
     "execution_count": 15,
     "metadata": {},
     "output_type": "execute_result"
    }
   ],
   "source": [
    "np.sum(h-y)"
   ]
  },
  {
   "cell_type": "code",
   "execution_count": 29,
   "metadata": {},
   "outputs": [
    {
     "data": {
      "text/plain": [
       "(47,)"
      ]
     },
     "execution_count": 29,
     "metadata": {},
     "output_type": "execute_result"
    }
   ],
   "source": [
    "(X[:,1]).shape"
   ]
  },
  {
   "cell_type": "code",
   "execution_count": 16,
   "metadata": {
    "collapsed": true
   },
   "outputs": [],
   "source": [
    "x=(h-y)"
   ]
  },
  {
   "cell_type": "code",
   "execution_count": 17,
   "metadata": {
    "collapsed": true
   },
   "outputs": [],
   "source": [
    "theta[0] -= (alpha /m) * np.sum(x)"
   ]
  },
  {
   "cell_type": "code",
   "execution_count": 18,
   "metadata": {},
   "outputs": [
    {
     "data": {
      "text/plain": [
       "array([ 3404.12659574])"
      ]
     },
     "execution_count": 18,
     "metadata": {},
     "output_type": "execute_result"
    }
   ],
   "source": [
    "theta[0]"
   ]
  },
  {
   "cell_type": "code",
   "execution_count": 19,
   "metadata": {
    "collapsed": true
   },
   "outputs": [],
   "source": [
    "theta[1] -= (alpha /m) * (np.sum(x * X[:,1]))"
   ]
  },
  {
   "cell_type": "code",
   "execution_count": 20,
   "metadata": {},
   "outputs": [
    {
     "data": {
      "text/plain": [
       "array([[  3.40412660e+03],\n",
       "       [  3.76492105e-12],\n",
       "       [  0.00000000e+00]])"
      ]
     },
     "execution_count": 20,
     "metadata": {},
     "output_type": "execute_result"
    }
   ],
   "source": [
    "theta"
   ]
  },
  {
   "cell_type": "code",
   "execution_count": 35,
   "metadata": {},
   "outputs": [
    {
     "data": {
      "text/plain": [
       "array([[-399900.],\n",
       "       [-329900.],\n",
       "       [-369000.],\n",
       "       [-232000.],\n",
       "       [-539900.],\n",
       "       [-299900.],\n",
       "       [-314900.],\n",
       "       [-198999.],\n",
       "       [-212000.],\n",
       "       [-242500.],\n",
       "       [-239999.],\n",
       "       [-347000.],\n",
       "       [-329999.],\n",
       "       [-699900.],\n",
       "       [-259900.],\n",
       "       [-449900.],\n",
       "       [-299900.],\n",
       "       [-199900.],\n",
       "       [-499998.],\n",
       "       [-599000.],\n",
       "       [-252900.],\n",
       "       [-255000.],\n",
       "       [-242900.],\n",
       "       [-259900.],\n",
       "       [-573900.],\n",
       "       [-249900.],\n",
       "       [-464500.],\n",
       "       [-469000.],\n",
       "       [-475000.],\n",
       "       [-299900.],\n",
       "       [-349900.],\n",
       "       [-169900.],\n",
       "       [-314900.],\n",
       "       [-579900.],\n",
       "       [-285900.],\n",
       "       [-249900.],\n",
       "       [-229900.],\n",
       "       [-345000.],\n",
       "       [-549000.],\n",
       "       [-287000.],\n",
       "       [-368500.],\n",
       "       [-329900.],\n",
       "       [-314000.],\n",
       "       [-299000.],\n",
       "       [-179900.],\n",
       "       [-299900.],\n",
       "       [-239500.]])"
      ]
     },
     "execution_count": 35,
     "metadata": {},
     "output_type": "execute_result"
    }
   ],
   "source": [
    "a"
   ]
  },
  {
   "cell_type": "code",
   "execution_count": null,
   "metadata": {
    "collapsed": true
   },
   "outputs": [],
   "source": []
  },
  {
   "cell_type": "code",
   "execution_count": 32,
   "metadata": {},
   "outputs": [
    {
     "data": {
      "text/plain": [
       "array([  1.51092226e-12])"
      ]
     },
     "execution_count": 32,
     "metadata": {},
     "output_type": "execute_result"
    }
   ],
   "source": [
    "theta[1]"
   ]
  },
  {
   "cell_type": "code",
   "execution_count": 33,
   "metadata": {},
   "outputs": [
    {
     "data": {
      "text/plain": [
       "array([  1.31415422e-01,  -5.09640698e-01,   5.07908699e-01,\n",
       "        -7.43677059e-01,   1.27107075e+00,  -1.99450507e-02,\n",
       "        -5.93588523e-01,  -7.29685755e-01,  -7.89466782e-01,\n",
       "        -6.44465993e-01,  -7.71822042e-02,  -8.65999486e-04,\n",
       "        -1.40779041e-01,   3.15099326e+00,  -9.31923697e-01,\n",
       "         3.80715024e-01,  -8.65782986e-01,  -9.72625673e-01,\n",
       "         7.73743478e-01,   1.31050078e+00,  -2.97227261e-01,\n",
       "        -1.43322915e-01,  -5.04552951e-01,  -4.91995958e-02,\n",
       "         2.40309445e+00,  -1.14560907e+00,  -6.90255715e-01,\n",
       "         6.68172729e-01,   2.53521350e-01,   8.09357707e-01,\n",
       "        -2.05647815e-01,  -1.27280274e+00,   5.00114703e-02,\n",
       "         1.44532608e+00,  -2.41262044e-01,  -7.16966387e-01,\n",
       "        -9.68809863e-01,   1.67029651e-01,   2.81647389e+00,\n",
       "         2.05187753e-01,  -4.28236746e-01,   3.01854946e-01,\n",
       "         7.20322135e-01,  -1.01841540e+00,  -1.46104938e+00,\n",
       "        -1.89112638e-01,  -1.01459959e+00])"
      ]
     },
     "execution_count": 33,
     "metadata": {},
     "output_type": "execute_result"
    }
   ],
   "source": [
    "X[:,1]"
   ]
  },
  {
   "cell_type": "code",
   "execution_count": null,
   "metadata": {
    "collapsed": true
   },
   "outputs": [],
   "source": []
  },
  {
   "cell_type": "code",
   "execution_count": 26,
   "metadata": {
    "collapsed": true,
    "scrolled": true
   },
   "outputs": [],
   "source": [
    "t1=(dot(X,theta)-y).transpose()"
   ]
  },
  {
   "cell_type": "code",
   "execution_count": 28,
   "metadata": {
    "collapsed": true
   },
   "outputs": [],
   "source": [
    "t2=dot(X,theta)-y"
   ]
  },
  {
   "cell_type": "code",
   "execution_count": 33,
   "metadata": {},
   "outputs": [
    {
     "data": {
      "text/plain": [
       "array([[  6.55915481e+10]])"
      ]
     },
     "execution_count": 33,
     "metadata": {},
     "output_type": "execute_result"
    }
   ],
   "source": [
    "dot(t1,t2)/(2*m)"
   ]
  },
  {
   "cell_type": "code",
   "execution_count": null,
   "metadata": {
    "collapsed": true
   },
   "outputs": [],
   "source": []
  }
 ],
 "metadata": {
  "kernelspec": {
   "display_name": "Python 3",
   "language": "python",
   "name": "python3"
  },
  "language_info": {
   "codemirror_mode": {
    "name": "ipython",
    "version": 3
   },
   "file_extension": ".py",
   "mimetype": "text/x-python",
   "name": "python",
   "nbconvert_exporter": "python",
   "pygments_lexer": "ipython3",
   "version": "3.6.0"
  },
  "toc": {
   "colors": {
    "hover_highlight": "#DAA520",
    "navigate_num": "#000000",
    "navigate_text": "#333333",
    "running_highlight": "#FF0000",
    "selected_highlight": "#FFD700",
    "sidebar_border": "#EEEEEE",
    "wrapper_background": "#FFFFFF"
   },
   "moveMenuLeft": true,
   "nav_menu": {
    "height": "12px",
    "width": "252px"
   },
   "navigate_menu": true,
   "number_sections": true,
   "sideBar": true,
   "threshold": 4,
   "toc_cell": false,
   "toc_section_display": "block",
   "toc_window_display": false,
   "widenNotebook": false
  }
 },
 "nbformat": 4,
 "nbformat_minor": 2
}
